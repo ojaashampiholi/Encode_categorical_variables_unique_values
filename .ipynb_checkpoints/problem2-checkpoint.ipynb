{
 "cells": [
  {
   "cell_type": "markdown",
   "metadata": {},
   "source": [
    "## Encoding Categorical coluns with lots of unique values for regression"
   ]
  },
  {
   "cell_type": "code",
   "execution_count": 1,
   "metadata": {},
   "outputs": [],
   "source": [
    "import numpy as np\n",
    "import pandas as pd\n",
    "from sklearn.preprocessing import LabelEncoder\n",
    "from sklearn.preprocessing import LabelBinarizer\n",
    "import category_encoders as ce\n",
    "from category_encoders.helmert import HelmertEncoder"
   ]
  },
  {
   "cell_type": "markdown",
   "metadata": {},
   "source": [
    "### Function which performs Binary Encoding\n",
    "This function takes the data and the column number as the input. If the data column is a categorical variable, the function returns an encoding dataframe for the column. If the data is not a categorical variable, the function returns an empty dataframe."
   ]
  },
  {
   "cell_type": "code",
   "execution_count": 160,
   "metadata": {},
   "outputs": [],
   "source": [
    "def dataEncoderBinary(data,i):\n",
    "    encoders = {}\n",
    "    temp = data.columns[i]\n",
    "    #data[temp].dtypes\n",
    "    if data[temp].dtypes == \"object\":\n",
    "        print(\"Using Binary Encoding\")\n",
    "        print(\"Total no of unique column elements\",data[temp].nunique())\n",
    "        print(\"Total no of column elements\",data[temp].count())\n",
    "        encoder = ce.BinaryEncoder(cols=[temp])\n",
    "        dfbin = encoder.fit_transform(data[temp])\n",
    "        data = pd.concat([data, dfbin],axis = 1)\n",
    "        data = data.drop([temp], axis = 1)\n",
    "        print(\"Returning Encoding DataFrame\")\n",
    "        return dfbin\n",
    "    else:\n",
    "        print(\"Not a Categorical Variable\")\n",
    "        print(\"Returning Empty DataFrame\")\n",
    "        column_names = [\"Empty\"]\n",
    "        emptyDF = pd.DataFrame(columns = column_names)\n",
    "        return emptyDF"
   ]
  },
  {
   "cell_type": "markdown",
   "metadata": {},
   "source": [
    "### Function that performs Base N encoding\n",
    "This function takes the data, base and the column number as the input. If the data column is a categorical variable, the function returns an encoding dataframe for the column. If the data is not a categorical variable, the function returns an empty dataframe."
   ]
  },
  {
   "cell_type": "code",
   "execution_count": 161,
   "metadata": {},
   "outputs": [],
   "source": [
    "def dataEncoderBaseN(data, n, i):\n",
    "    encoders = {}\n",
    "    temp = data.columns[i]\n",
    "    if data[temp].dtypes == \"object\":\n",
    "        print(\"Using Base N Encoding\")\n",
    "        print(\"The Base is\", n)\n",
    "        print(\"Total no of unique column elements\",data[temp].nunique())\n",
    "        print(\"Total no of column elements\",data[temp].count())\n",
    "        encoder = ce.BaseNEncoder(cols=[temp], base = n)\n",
    "        dfhelm = encoder.fit_transform(data[temp])\n",
    "        data = pd.concat([data, dfhelm],axis = 1)\n",
    "        data = data.drop([temp], axis = 1)\n",
    "        print(\"Returning Encoding DataFrame\")\n",
    "        return dfhelm\n",
    "    else:\n",
    "        print(\"Not a Categorical Variable\")\n",
    "        print(\"Returning Empty DataFrame\")\n",
    "        column_names = [\"Empty\"]\n",
    "        emptyDF = pd.DataFrame(columns = column_names)\n",
    "        return emptyDF"
   ]
  },
  {
   "cell_type": "markdown",
   "metadata": {},
   "source": [
    "### Testing the Functions\n",
    "The sample dataset contains 5 features out of which 2 are categorical variables while 3 are non categorical variables"
   ]
  },
  {
   "cell_type": "code",
   "execution_count": 151,
   "metadata": {},
   "outputs": [
    {
     "data": {
      "text/html": [
       "<div>\n",
       "<style scoped>\n",
       "    .dataframe tbody tr th:only-of-type {\n",
       "        vertical-align: middle;\n",
       "    }\n",
       "\n",
       "    .dataframe tbody tr th {\n",
       "        vertical-align: top;\n",
       "    }\n",
       "\n",
       "    .dataframe thead th {\n",
       "        text-align: right;\n",
       "    }\n",
       "</style>\n",
       "<table border=\"1\" class=\"dataframe\">\n",
       "  <thead>\n",
       "    <tr style=\"text-align: right;\">\n",
       "      <th></th>\n",
       "      <th>datetime</th>\n",
       "      <th>CellID</th>\n",
       "      <th>provinceName</th>\n",
       "      <th>cell2Province</th>\n",
       "      <th>Province2cell</th>\n",
       "    </tr>\n",
       "  </thead>\n",
       "  <tbody>\n",
       "    <tr>\n",
       "      <td>0</td>\n",
       "      <td>2013-11-01 00:00:00</td>\n",
       "      <td>1</td>\n",
       "      <td>MILANO</td>\n",
       "      <td>0.1894</td>\n",
       "      <td>0.0541</td>\n",
       "    </tr>\n",
       "    <tr>\n",
       "      <td>1</td>\n",
       "      <td>2013-11-01 00:00:00</td>\n",
       "      <td>1</td>\n",
       "      <td>PAVIA</td>\n",
       "      <td>0.0273</td>\n",
       "      <td>NaN</td>\n",
       "    </tr>\n",
       "    <tr>\n",
       "      <td>2</td>\n",
       "      <td>2013-11-01 00:00:00</td>\n",
       "      <td>1</td>\n",
       "      <td>TRENTO</td>\n",
       "      <td>0.0261</td>\n",
       "      <td>NaN</td>\n",
       "    </tr>\n",
       "    <tr>\n",
       "      <td>3</td>\n",
       "      <td>2013-11-01 00:00:00</td>\n",
       "      <td>2</td>\n",
       "      <td>MILANO</td>\n",
       "      <td>0.1922</td>\n",
       "      <td>0.0556</td>\n",
       "    </tr>\n",
       "    <tr>\n",
       "      <td>4</td>\n",
       "      <td>2013-11-01 00:00:00</td>\n",
       "      <td>2</td>\n",
       "      <td>PAVIA</td>\n",
       "      <td>0.0273</td>\n",
       "      <td>NaN</td>\n",
       "    </tr>\n",
       "  </tbody>\n",
       "</table>\n",
       "</div>"
      ],
      "text/plain": [
       "              datetime  CellID provinceName  cell2Province  Province2cell\n",
       "0  2013-11-01 00:00:00       1       MILANO         0.1894         0.0541\n",
       "1  2013-11-01 00:00:00       1        PAVIA         0.0273            NaN\n",
       "2  2013-11-01 00:00:00       1       TRENTO         0.0261            NaN\n",
       "3  2013-11-01 00:00:00       2       MILANO         0.1922         0.0556\n",
       "4  2013-11-01 00:00:00       2        PAVIA         0.0273            NaN"
      ]
     },
     "execution_count": 151,
     "metadata": {},
     "output_type": "execute_result"
    }
   ],
   "source": [
    "df = pd.read_csv(\"mi-to-provinces-2013-11-01.csv\")\n",
    "data = pd.DataFrame(df)\n",
    "data.head()"
   ]
  },
  {
   "cell_type": "code",
   "execution_count": 152,
   "metadata": {},
   "outputs": [
    {
     "data": {
      "text/plain": [
       "datetime          object\n",
       "CellID             int64\n",
       "provinceName      object\n",
       "cell2Province    float64\n",
       "Province2cell    float64\n",
       "dtype: object"
      ]
     },
     "execution_count": 152,
     "metadata": {},
     "output_type": "execute_result"
    }
   ],
   "source": [
    "data.dtypes"
   ]
  },
  {
   "cell_type": "code",
   "execution_count": 153,
   "metadata": {},
   "outputs": [
    {
     "name": "stdout",
     "output_type": "stream",
     "text": [
      "datetime              0\n",
      "CellID                0\n",
      "provinceName          0\n",
      "cell2Province    899375\n",
      "Province2cell    859676\n",
      "dtype: int64\n"
     ]
    }
   ],
   "source": [
    "print(data.isnull().sum())"
   ]
  },
  {
   "cell_type": "code",
   "execution_count": 165,
   "metadata": {},
   "outputs": [
    {
     "name": "stdout",
     "output_type": "stream",
     "text": [
      "For the column number 1\n",
      "Using Binary Encoding\n",
      "Total no of unique column elements 24\n",
      "Total no of column elements 2307306\n",
      "Returning Encoding DataFrame\n",
      "   datetime_0  datetime_1  datetime_2  datetime_3  datetime_4  datetime_5\n",
      "0           0           0           0           0           0           1\n",
      "1           0           0           0           0           0           1\n",
      "2           0           0           0           0           0           1\n",
      "-------------------------------------------------------------------------------------\n",
      "For the column number 2\n",
      "Not a Categorical Variable\n",
      "Returning Empty DataFrame\n",
      "Empty DataFrame\n",
      "Columns: [Empty]\n",
      "Index: []\n",
      "-------------------------------------------------------------------------------------\n",
      "For the column number 3\n",
      "Using Binary Encoding\n",
      "Total no of unique column elements 110\n",
      "Total no of column elements 2307306\n",
      "Returning Encoding DataFrame\n",
      "   provinceName_0  provinceName_1  provinceName_2  provinceName_3  \\\n",
      "0               0               0               0               0   \n",
      "1               0               0               0               0   \n",
      "2               0               0               0               0   \n",
      "\n",
      "   provinceName_4  provinceName_5  provinceName_6  provinceName_7  \n",
      "0               0               0               0               1  \n",
      "1               0               0               1               0  \n",
      "2               0               0               1               1  \n",
      "-------------------------------------------------------------------------------------\n",
      "For the column number 4\n",
      "Not a Categorical Variable\n",
      "Returning Empty DataFrame\n",
      "Empty DataFrame\n",
      "Columns: [Empty]\n",
      "Index: []\n",
      "-------------------------------------------------------------------------------------\n",
      "For the column number 5\n",
      "Not a Categorical Variable\n",
      "Returning Empty DataFrame\n",
      "Empty DataFrame\n",
      "Columns: [Empty]\n",
      "Index: []\n",
      "-------------------------------------------------------------------------------------\n"
     ]
    }
   ],
   "source": [
    "for j in range(len(data.columns)):\n",
    "    print(\"For the column number\", j+1)\n",
    "    newData = dataEncoderBinary(data,j)\n",
    "    print(newData.head(3))\n",
    "    print(\"-------------------------------------------------------------------------------------\")"
   ]
  },
  {
   "cell_type": "code",
   "execution_count": 166,
   "metadata": {
    "scrolled": true
   },
   "outputs": [
    {
     "name": "stdout",
     "output_type": "stream",
     "text": [
      "For the column number 1\n",
      "Using Base N Encoding\n",
      "The Base is 12\n",
      "Total no of unique column elements 24\n",
      "Total no of column elements 2307306\n",
      "Returning Encoding DataFrame\n",
      "   datetime_0  datetime_1  datetime_2\n",
      "0           0           0           1\n",
      "1           0           0           1\n",
      "2           0           0           1\n",
      "-------------------------------------------------------------------------------------\n",
      "For the column number 2\n",
      "Not a Categorical Variable\n",
      "Returning Empty DataFrame\n",
      "Empty DataFrame\n",
      "Columns: [Empty]\n",
      "Index: []\n",
      "-------------------------------------------------------------------------------------\n",
      "For the column number 3\n",
      "Using Base N Encoding\n",
      "The Base is 12\n",
      "Total no of unique column elements 110\n",
      "Total no of column elements 2307306\n",
      "Returning Encoding DataFrame\n",
      "   provinceName_0  provinceName_1  provinceName_2\n",
      "0               0               0               1\n",
      "1               0               0               2\n",
      "2               0               0               3\n",
      "-------------------------------------------------------------------------------------\n",
      "For the column number 4\n",
      "Not a Categorical Variable\n",
      "Returning Empty DataFrame\n",
      "Empty DataFrame\n",
      "Columns: [Empty]\n",
      "Index: []\n",
      "-------------------------------------------------------------------------------------\n",
      "For the column number 5\n",
      "Not a Categorical Variable\n",
      "Returning Empty DataFrame\n",
      "Empty DataFrame\n",
      "Columns: [Empty]\n",
      "Index: []\n",
      "-------------------------------------------------------------------------------------\n"
     ]
    }
   ],
   "source": [
    "for j in range(len(data.columns)):\n",
    "    print(\"For the column number\", j+1)\n",
    "    newData = dataEncoderBaseN(data, 12, j)\n",
    "    print(newData.head(3))\n",
    "    print(\"-------------------------------------------------------------------------------------\")"
   ]
  },
  {
   "cell_type": "markdown",
   "metadata": {},
   "source": [
    "### End of File"
   ]
  }
 ],
 "metadata": {
  "kernelspec": {
   "display_name": "Python 3",
   "language": "python",
   "name": "python3"
  },
  "language_info": {
   "codemirror_mode": {
    "name": "ipython",
    "version": 3
   },
   "file_extension": ".py",
   "mimetype": "text/x-python",
   "name": "python",
   "nbconvert_exporter": "python",
   "pygments_lexer": "ipython3",
   "version": "3.7.4"
  }
 },
 "nbformat": 4,
 "nbformat_minor": 2
}
